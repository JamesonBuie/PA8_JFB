{
 "cells": [
  {
   "cell_type": "markdown",
   "id": "b21e747f",
   "metadata": {},
   "source": [
    "### Programming Assignment 8- NumPy\n",
    "#### Jameson Buie - Version 1\n",
    "#### CS-150 Spring 2023"
   ]
  },
  {
   "cell_type": "code",
   "execution_count": 1,
   "id": "50fecd24",
   "metadata": {},
   "outputs": [],
   "source": [
    "import numpy as np"
   ]
  },
  {
   "cell_type": "markdown",
   "id": "e51fbf3b",
   "metadata": {},
   "source": [
    "# a)"
   ]
  },
  {
   "cell_type": "code",
   "execution_count": 7,
   "id": "66d7915c",
   "metadata": {},
   "outputs": [],
   "source": [
    "array1=np.arange(10,41,10)\n",
    "array1.resize(2,2)"
   ]
  },
  {
   "cell_type": "code",
   "execution_count": 8,
   "id": "016f981b",
   "metadata": {},
   "outputs": [
    {
     "data": {
      "text/plain": [
       "array([[10, 20],\n",
       "       [30, 40]])"
      ]
     },
     "execution_count": 8,
     "metadata": {},
     "output_type": "execute_result"
    }
   ],
   "source": [
    "array1"
   ]
  },
  {
   "cell_type": "code",
   "execution_count": 27,
   "id": "0f614b77",
   "metadata": {},
   "outputs": [
    {
     "name": "stdout",
     "output_type": "stream",
     "text": [
      "i:\n",
      " [[ 100  400]\n",
      " [ 900 1600]]\n",
      "ii:\n",
      " [[110 120]\n",
      " [130 140]]\n",
      "iii:\n",
      "  [[ 50 100]\n",
      " [150 200]]\n",
      "iv:\n",
      " [[3.16227766 4.47213595]\n",
      " [5.47722558 6.32455532]]\n"
     ]
    }
   ],
   "source": [
    "print(\"i:\\n\",array1*array1)\n",
    "print(\"ii:\\n\",array1+100)\n",
    "print(\"iii:\\n \",array1*5)\n",
    "print(\"iv:\\n\",np.sqrt(array1))"
   ]
  },
  {
   "cell_type": "markdown",
   "id": "ed171284",
   "metadata": {},
   "source": [
    "# b)"
   ]
  },
  {
   "cell_type": "code",
   "execution_count": 22,
   "id": "6227d10b",
   "metadata": {},
   "outputs": [
    {
     "data": {
      "text/plain": [
       "array([[ 3,  6,  9],\n",
       "       [12, 15, 18],\n",
       "       [21, 24, 27]])"
      ]
     },
     "execution_count": 22,
     "metadata": {},
     "output_type": "execute_result"
    }
   ],
   "source": [
    "a2=np.arange(3,28,3)\n",
    "a2.resize(3,3)\n",
    "a2"
   ]
  },
  {
   "cell_type": "code",
   "execution_count": 24,
   "id": "48b59319",
   "metadata": {},
   "outputs": [
    {
     "data": {
      "text/plain": [
       "array([[10.  , 11.25, 12.5 ],\n",
       "       [13.75, 15.  , 16.25],\n",
       "       [17.5 , 18.75, 20.  ]])"
      ]
     },
     "execution_count": 24,
     "metadata": {},
     "output_type": "execute_result"
    }
   ],
   "source": [
    "a3=np.linspace(10,20,9)\n",
    "a3.resize(3,3)\n",
    "a3"
   ]
  },
  {
   "cell_type": "code",
   "execution_count": 25,
   "id": "d2219321",
   "metadata": {},
   "outputs": [
    {
     "data": {
      "text/plain": [
       "array([[ 30. ,  67.5, 112.5],\n",
       "       [165. , 225. , 292.5],\n",
       "       [367.5, 450. , 540. ]])"
      ]
     },
     "execution_count": 25,
     "metadata": {},
     "output_type": "execute_result"
    }
   ],
   "source": [
    "# multiplying the arrays together\n",
    "a4=np.multiply(a2,a3)\n",
    "a4"
   ]
  },
  {
   "cell_type": "markdown",
   "id": "16bf3f66",
   "metadata": {},
   "source": [
    "# c)"
   ]
  },
  {
   "cell_type": "code",
   "execution_count": 28,
   "id": "590fac02",
   "metadata": {},
   "outputs": [],
   "source": [
    "import pandas as pd"
   ]
  },
  {
   "cell_type": "code",
   "execution_count": 36,
   "id": "76c899ae",
   "metadata": {},
   "outputs": [
    {
     "data": {
      "text/plain": [
       "array([[52, 12, 81,  0, 58]], dtype=int32)"
      ]
     },
     "execution_count": 36,
     "metadata": {},
     "output_type": "execute_result"
    }
   ],
   "source": [
    "# loading the files\n",
    "f1=np.load(\"process1.npy\")\n",
    "f1"
   ]
  },
  {
   "cell_type": "code",
   "execution_count": 37,
   "id": "7864a333",
   "metadata": {},
   "outputs": [
    {
     "data": {
      "text/plain": [
       "array([[96,  4, 61, 16, 43]], dtype=int32)"
      ]
     },
     "execution_count": 37,
     "metadata": {},
     "output_type": "execute_result"
    }
   ],
   "source": [
    "f2=np.load(\"process2.npy\")\n",
    "f2"
   ]
  },
  {
   "cell_type": "code",
   "execution_count": 38,
   "id": "0ad5b263",
   "metadata": {},
   "outputs": [
    {
     "data": {
      "text/plain": [
       "array([[38, 96, 45, 17, 58]], dtype=int32)"
      ]
     },
     "execution_count": 38,
     "metadata": {},
     "output_type": "execute_result"
    }
   ],
   "source": [
    "f3=np.load(\"process3.npy\")\n",
    "f3"
   ]
  },
  {
   "cell_type": "code",
   "execution_count": 39,
   "id": "cbee83a6",
   "metadata": {},
   "outputs": [
    {
     "data": {
      "text/plain": [
       "array([[97, 21, 22, 25,  6]], dtype=int32)"
      ]
     },
     "execution_count": 39,
     "metadata": {},
     "output_type": "execute_result"
    }
   ],
   "source": [
    "f4=np.load(\"process4.npy\")\n",
    "f4"
   ]
  },
  {
   "cell_type": "code",
   "execution_count": 40,
   "id": "007b93a3",
   "metadata": {},
   "outputs": [
    {
     "data": {
      "text/plain": [
       "array([[77,  6, 19,  2, 74]], dtype=int32)"
      ]
     },
     "execution_count": 40,
     "metadata": {},
     "output_type": "execute_result"
    }
   ],
   "source": [
    "f5=np.load(\"process5.npy\")\n",
    "f5"
   ]
  },
  {
   "cell_type": "code",
   "execution_count": 43,
   "id": "0f30de77",
   "metadata": {},
   "outputs": [
    {
     "data": {
      "text/plain": [
       "array([[52, 12, 81,  0, 58],\n",
       "       [96,  4, 61, 16, 43],\n",
       "       [38, 96, 45, 17, 58],\n",
       "       [97, 21, 22, 25,  6],\n",
       "       [77,  6, 19,  2, 74]], dtype=int32)"
      ]
     },
     "execution_count": 43,
     "metadata": {},
     "output_type": "execute_result"
    }
   ],
   "source": [
    "a5=np.vstack([f1,f2,f3,f4,f5])\n",
    "a5"
   ]
  },
  {
   "cell_type": "code",
   "execution_count": 62,
   "id": "fc12ed6a",
   "metadata": {},
   "outputs": [],
   "source": [
    "# splitting the array by columns\n",
    "a,b,c,d,e=np.hsplit(a5,5)"
   ]
  },
  {
   "cell_type": "code",
   "execution_count": 63,
   "id": "6b7ceb8a",
   "metadata": {},
   "outputs": [
    {
     "name": "stdout",
     "output_type": "stream",
     "text": [
      "The mean of the first column is:  72.0\n",
      "The mean of the second column is:  27.8\n",
      "The mean of the third column is:  45.6\n",
      "The mean of the fourth column is:  12.0\n",
      "The mean of the fifth column is:  47.8\n"
     ]
    }
   ],
   "source": [
    "# mean of each column\n",
    "print(\"The mean of the first column is: \",np.mean(a))\n",
    "print(\"The mean of the second column is: \",np.mean(b))\n",
    "print(\"The mean of the third column is: \",np.mean(c))\n",
    "print(\"The mean of the fourth column is: \",np.mean(d))\n",
    "print(\"The mean of the fifth column is: \",np.mean(e))"
   ]
  }
 ],
 "metadata": {
  "kernelspec": {
   "display_name": "Python 3 (ipykernel)",
   "language": "python",
   "name": "python3"
  },
  "language_info": {
   "codemirror_mode": {
    "name": "ipython",
    "version": 3
   },
   "file_extension": ".py",
   "mimetype": "text/x-python",
   "name": "python",
   "nbconvert_exporter": "python",
   "pygments_lexer": "ipython3",
   "version": "3.9.13"
  }
 },
 "nbformat": 4,
 "nbformat_minor": 5
}
